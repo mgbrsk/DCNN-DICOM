{
 "cells": [
  {
   "cell_type": "code",
   "execution_count": 1,
   "metadata": {},
   "outputs": [
    {
     "data": {
      "text/html": [
       "        <script type=\"text/javascript\">\n",
       "        window.PlotlyConfig = {MathJaxConfig: 'local'};\n",
       "        if (window.MathJax) {MathJax.Hub.Config({SVG: {font: \"STIX-Web\"}});}\n",
       "        if (typeof require !== 'undefined') {\n",
       "        require.undef(\"plotly\");\n",
       "        requirejs.config({\n",
       "            paths: {\n",
       "                'plotly': ['https://cdn.plot.ly/plotly-latest.min']\n",
       "            }\n",
       "        });\n",
       "        require(['plotly'], function(Plotly) {\n",
       "            window._Plotly = Plotly;\n",
       "        });\n",
       "        }\n",
       "        </script>\n",
       "        "
      ]
     },
     "metadata": {},
     "output_type": "display_data"
    }
   ],
   "source": [
    "#%reload_ext signature\n",
    "%matplotlib inline\n",
    "\n",
    "import numpy as np\n",
    "import pydicom\n",
    "import os\n",
    "import matplotlib.pyplot as plt\n",
    "from glob import glob\n",
    "from mpl_toolkits.mplot3d.art3d import Poly3DCollection\n",
    "import scipy.ndimage\n",
    "from skimage import morphology\n",
    "from skimage import measure\n",
    "from skimage.transform import resize\n",
    "from sklearn.cluster import KMeans\n",
    "from plotly import __version__\n",
    "from plotly.offline import download_plotlyjs, init_notebook_mode, plot, iplot\n",
    "from plotly.tools import FigureFactory as FF\n",
    "from plotly.graph_objs import *\n",
    "init_notebook_mode(connected=True) "
   ]
  },
  {
   "cell_type": "code",
   "execution_count": 3,
   "metadata": {},
   "outputs": [
    {
     "ename": "PermissionError",
     "evalue": "[Errno 13] Permission denied: 'RLADD01000268728_RLSDD01000282828\\\\CT\\\\Chest HCT'",
     "output_type": "error",
     "traceback": [
      "\u001b[1;31m---------------------------------------------------------------------------\u001b[0m",
      "\u001b[1;31mPermissionError\u001b[0m                           Traceback (most recent call last)",
      "\u001b[1;32m<ipython-input-3-c6ec32ce51d7>\u001b[0m in \u001b[0;36m<module>\u001b[1;34m\u001b[0m\n\u001b[0;32m      1\u001b[0m \u001b[0mfilename\u001b[0m \u001b[1;33m=\u001b[0m \u001b[1;33m(\u001b[0m\u001b[1;34m'RLADD01000268728_RLSDD01000282828\\\\CT\\\\Chest HCT'\u001b[0m\u001b[1;33m)\u001b[0m\u001b[1;33m\u001b[0m\u001b[1;33m\u001b[0m\u001b[0m\n\u001b[1;32m----> 2\u001b[1;33m \u001b[0mds\u001b[0m \u001b[1;33m=\u001b[0m \u001b[0mpydicom\u001b[0m\u001b[1;33m.\u001b[0m\u001b[0mdcmread\u001b[0m\u001b[1;33m(\u001b[0m\u001b[0mfilename\u001b[0m\u001b[1;33m)\u001b[0m\u001b[1;33m\u001b[0m\u001b[1;33m\u001b[0m\u001b[0m\n\u001b[0m",
      "\u001b[1;32mD:\\Anaconda3\\lib\\site-packages\\pydicom\\filereader.py\u001b[0m in \u001b[0;36mdcmread\u001b[1;34m(fp, defer_size, stop_before_pixels, force, specific_tags)\u001b[0m\n\u001b[0;32m    844\u001b[0m         \u001b[1;32mexcept\u001b[0m \u001b[0mException\u001b[0m\u001b[1;33m:\u001b[0m\u001b[1;33m\u001b[0m\u001b[1;33m\u001b[0m\u001b[0m\n\u001b[0;32m    845\u001b[0m             \u001b[0mlogger\u001b[0m\u001b[1;33m.\u001b[0m\u001b[0mdebug\u001b[0m\u001b[1;33m(\u001b[0m\u001b[1;34m\"Reading file '{0}'\"\u001b[0m\u001b[1;33m.\u001b[0m\u001b[0mformat\u001b[0m\u001b[1;33m(\u001b[0m\u001b[0mfp\u001b[0m\u001b[1;33m)\u001b[0m\u001b[1;33m)\u001b[0m\u001b[1;33m\u001b[0m\u001b[1;33m\u001b[0m\u001b[0m\n\u001b[1;32m--> 846\u001b[1;33m         \u001b[0mfp\u001b[0m \u001b[1;33m=\u001b[0m \u001b[0mopen\u001b[0m\u001b[1;33m(\u001b[0m\u001b[0mfp\u001b[0m\u001b[1;33m,\u001b[0m \u001b[1;34m'rb'\u001b[0m\u001b[1;33m)\u001b[0m\u001b[1;33m\u001b[0m\u001b[1;33m\u001b[0m\u001b[0m\n\u001b[0m\u001b[0;32m    847\u001b[0m \u001b[1;33m\u001b[0m\u001b[0m\n\u001b[0;32m    848\u001b[0m     \u001b[1;32mif\u001b[0m \u001b[0mconfig\u001b[0m\u001b[1;33m.\u001b[0m\u001b[0mdebugging\u001b[0m\u001b[1;33m:\u001b[0m\u001b[1;33m\u001b[0m\u001b[1;33m\u001b[0m\u001b[0m\n",
      "\u001b[1;31mPermissionError\u001b[0m: [Errno 13] Permission denied: 'RLADD01000268728_RLSDD01000282828\\\\CT\\\\Chest HCT'"
     ]
    }
   ],
   "source": [
    "filename = ('RLADD01000268728_RLSDD01000282828\\CT\\Chest HCT')\n",
    "ds = pydicom.dcmread(filename)"
   ]
  },
  {
   "cell_type": "code",
   "execution_count": null,
   "metadata": {},
   "outputs": [],
   "source": [
    "# authors : Guillaume Lemaitre <g.lemaitre58@gmail.com>\n",
    "# license : MIT\n",
    "\n",
    "from os.path import dirname, join\n",
    "from pprint import pprint\n",
    "\n",
    "import pydicom\n",
    "from pydicom.data import get_testdata_file\n",
    "from pydicom.filereader import read_dicomdir\n",
    "\n",
    "# fetch the path to the test data\n",
    "filepath = ''\n",
    "print('Path to the DICOM directory: {}'.format(filepath))\n",
    "# load the data\n",
    "dicom_dir = read_dicomdir(filepath)\n",
    "base_dir = dirname(filepath)\n",
    "\n",
    "# # go through the patient record and print information\n",
    "# for patient_record in dicom_dir.patient_records:\n",
    "#     if (hasattr(patient_record, 'PatientID') and\n",
    "#             hasattr(patient_record, 'PatientName')):\n",
    "#         print(\"Patient: {}: {}\".format(patient_record.PatientID,\n",
    "#                                        patient_record.PatientName))\n",
    "#     studies = patient_record.children\n",
    "#     # got through each serie\n",
    "#     for study in studies:\n",
    "#         print(\" \" * 4 + \"Study {}: {}: {}\".format(study.StudyID,\n",
    "#                                                   study.StudyDate,\n",
    "#                                                   study.StudyDescription))\n",
    "#         all_series = study.children\n",
    "#         # go through each serie\n",
    "#         for series in all_series:\n",
    "#             image_count = len(series.children)\n",
    "#             plural = ('', 's')[image_count > 1]\n",
    "\n",
    "#             # Write basic series info and image count\n",
    "\n",
    "#             # Put N/A in if no Series Description\n",
    "#             if 'SeriesDescription' not in series:\n",
    "#                 series.SeriesDescription = \"N/A\"\n",
    "#             print(\" \" * 8 + \"Series {}: {}: {} ({} image{})\".format(\n",
    "#                 series.SeriesNumber, series.Modality, series.SeriesDescription,\n",
    "#                 image_count, plural))\n",
    "\n",
    "#             # Open and read something from each image, for demonstration\n",
    "#             # purposes. For simple quick overview of DICOMDIR, leave the\n",
    "#             # following out\n",
    "#             print(\" \" * 12 + \"Reading images...\")\n",
    "#             image_records = series.children\n",
    "#             image_filenames = [join(base_dir, *image_rec.ReferencedFileID)\n",
    "#                                for image_rec in image_records]\n",
    "\n",
    "#             datasets = [pydicom.dcmread(image_filename)\n",
    "#                         for image_filename in image_filenames]\n",
    "\n",
    "#             patient_names = set(ds.PatientName for ds in datasets)\n",
    "#             patient_IDs = set(ds.PatientID for ds in datasets)\n",
    "\n",
    "#             # List the image filenames\n",
    "#             print(\"\\n\" + \" \" * 12 + \"Image filenames:\")\n",
    "#             print(\" \" * 12, end=' ')\n",
    "#             pprint(image_filenames, indent=12)\n",
    "\n",
    "#             # Expect all images to have same patient name, id\n",
    "#             # Show the set of all names, IDs found (should each have one)\n",
    "#             print(\" \" * 12 + \"Patient Names in images..: {}\".format(\n",
    "#                 patient_names))\n",
    "#             print(\" \" * 12 + \"Patient IDs in images..: {}\".format(\n",
    "#                 patient_IDs))"
   ]
  }
 ],
 "metadata": {
  "kernelspec": {
   "display_name": "Python 3",
   "language": "python",
   "name": "python3"
  },
  "language_info": {
   "codemirror_mode": {
    "name": "ipython",
    "version": 3
   },
   "file_extension": ".py",
   "mimetype": "text/x-python",
   "name": "python",
   "nbconvert_exporter": "python",
   "pygments_lexer": "ipython3",
   "version": "3.7.6"
  }
 },
 "nbformat": 4,
 "nbformat_minor": 4
}
